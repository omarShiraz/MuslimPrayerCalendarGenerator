{
  "nbformat": 4,
  "nbformat_minor": 0,
  "metadata": {
    "colab": {
      "provenance": []
    },
    "kernelspec": {
      "name": "python3",
      "display_name": "Python 3"
    },
    "language_info": {
      "name": "python"
    }
  },
  "cells": [
    {
      "cell_type": "code",
      "source": [
        "!pip install astral"
      ],
      "metadata": {
        "colab": {
          "base_uri": "https://localhost:8080/"
        },
        "id": "vs818kAz3Ydh",
        "outputId": "185215fc-c53c-463c-a61e-0b8bb7226cfe"
      },
      "execution_count": 6,
      "outputs": [
        {
          "output_type": "stream",
          "name": "stdout",
          "text": [
            "Collecting astral\n",
            "  Downloading astral-3.2-py3-none-any.whl.metadata (1.7 kB)\n",
            "Downloading astral-3.2-py3-none-any.whl (38 kB)\n",
            "Installing collected packages: astral\n",
            "Successfully installed astral-3.2\n"
          ]
        }
      ]
    },
    {
      "cell_type": "code",
      "source": [
        "import csv\n",
        "import requests\n",
        "from datetime import datetime\n",
        "\n",
        "def fetch_prayer_times(year, latitude, longitude, method, csv_file_name):\n",
        "    # API Endpoint\n",
        "    base_url = \"https://api.aladhan.com/v1/calendar\"\n",
        "\n",
        "    # Open CSV file for writing\n",
        "    with open(csv_file_name, mode='w', newline='') as file:\n",
        "        writer = csv.writer(file)\n",
        "        writer.writerow(['Date', 'Fajr', 'Sunrise', 'Dhuhr', 'Asr', 'Maghrib', 'Isha'])  # Header row\n",
        "\n",
        "        # Loop through all months\n",
        "        for month in range(1, 13):\n",
        "            # API Request for the month\n",
        "            params = {\n",
        "                \"latitude\": latitude,\n",
        "                \"longitude\": longitude,\n",
        "                \"method\": method,\n",
        "                \"month\": month,\n",
        "                \"year\": year\n",
        "            }\n",
        "            response = requests.get(base_url, params=params)\n",
        "            data = response.json()\n",
        "\n",
        "            # Check if the response is valid\n",
        "            if data.get(\"code\") == 200:\n",
        "                for day in data[\"data\"]:\n",
        "                    # Format date as DD-MM-YYYY\n",
        "                    date = datetime.strptime(day[\"date\"][\"gregorian\"][\"date\"], '%d-%m-%Y').strftime('%d-%m-%Y')\n",
        "                    timings = day[\"timings\"]\n",
        "\n",
        "                    # Extract prayer times, add seconds \":00\"\n",
        "                    fajr = timings[\"Fajr\"].split(\" \")[0]\n",
        "                    sunrise = timings[\"Sunrise\"].split(\" \")[0]\n",
        "                    dhuhr = timings[\"Dhuhr\"].split(\" \")[0]\n",
        "                    asr = timings[\"Asr\"].split(\" \")[0]\n",
        "                    maghrib = timings[\"Maghrib\"].split(\" \")[0]\n",
        "                    isha = timings[\"Isha\"].split(\" \")[0]\n",
        "\n",
        "                    # Write row to CSV\n",
        "                    writer.writerow([date, fajr, sunrise, dhuhr, asr, maghrib, isha])\n",
        "            else:\n",
        "                print(f\"Error fetching data for {month}/{year}: {data.get('data')}\")\n",
        "\n",
        "    print(f\"Prayer times for {year} saved to {csv_file_name}!\")\n",
        "\n",
        "# Example Usage\n",
        "fetch_prayer_times(\n",
        "    year=2025,\n",
        "    latitude=6.9271,  # Colombo, Sri Lanka\n",
        "    longitude=79.8612,\n",
        "    method=3,  # Calculation Method (2 = Muslim World League)\n",
        "    csv_file_name='prayer_times_2025.csv'\n",
        ")"
      ],
      "metadata": {
        "colab": {
          "base_uri": "https://localhost:8080/"
        },
        "id": "eqkppxx53eoE",
        "outputId": "fd2eb8fc-5916-42a4-d150-e1c7929c4f52"
      },
      "execution_count": 32,
      "outputs": [
        {
          "output_type": "stream",
          "name": "stdout",
          "text": [
            "Prayer times for 2025 saved to prayer_times_2025.csv!\n"
          ]
        }
      ]
    },
    {
      "cell_type": "code",
      "source": [
        "import csv\n",
        "from datetime import datetime, timedelta\n",
        "\n",
        "def csv_to_ics(csv_file_name, ics_file_name):\n",
        "    # Read the CSV file\n",
        "    with open(csv_file_name, mode='r') as csv_file:\n",
        "        reader = csv.reader(csv_file)\n",
        "        next(reader)  # Skip header row\n",
        "\n",
        "        # Create and open the .ics file for writing\n",
        "        with open(ics_file_name, mode='w') as ics_file:\n",
        "            # Write the ICS header\n",
        "            ics_file.write(\"BEGIN:VCALENDAR\\n\")\n",
        "            ics_file.write(\"VERSION:2.0\\n\")\n",
        "            ics_file.write(\"CALSCALE:GREGORIAN\\n\")\n",
        "\n",
        "            # Process each row in the CSV\n",
        "            for row in reader:\n",
        "                date = row[0]  # Date in DD-MM-YYYY format\n",
        "                fajr = row[1]\n",
        "                sunrise = row[2]\n",
        "                dhuhr = row[3]\n",
        "                asr = row[4]\n",
        "                maghrib = row[5]\n",
        "                isha = row[6]\n",
        "\n",
        "                # Convert the date to YYYYMMDD format\n",
        "                try:\n",
        "                    event_date = datetime.strptime(date, '%d-%m-%Y')\n",
        "                except ValueError:\n",
        "                    print(f\"Skipping invalid date format: {date}\")\n",
        "                    continue\n",
        "\n",
        "                # Prayer times in order\n",
        "                prayer_times = [fajr, sunrise, dhuhr, asr, maghrib, isha]\n",
        "                prayer_names = ['Fajr', 'Sunrise', 'Dhuhr', 'Asr', 'Maghrib', 'Isha']\n",
        "\n",
        "                # Loop through each prayer time\n",
        "                for i, (prayer, time) in enumerate(zip(prayer_names, prayer_times)):\n",
        "                    if not time:  # Skip empty prayer times\n",
        "                        print(f\"Skipping missing time for {prayer} on {date}\")\n",
        "                        continue\n",
        "\n",
        "                    # Format the time as HH:MM (without modifying it)\n",
        "                    try:\n",
        "                        prayer_time = datetime.strptime(time, '%H:%M')\n",
        "                    except ValueError:\n",
        "                        print(f\"Skipping invalid time format: {time} for {prayer} on {date}\")\n",
        "                        continue\n",
        "\n",
        "                    # Calculate the Imam Jama'ah time by adding 10 minutes\n",
        "                    imam_jamaah_time = prayer_time + timedelta(minutes=10)\n",
        "\n",
        "                    # Format the original prayer time as HHMMSS (with seconds)\n",
        "                    event_time = prayer_time.strftime('%H%M') + '00'\n",
        "\n",
        "                    # Format the start time as YYYYMMDDTHHMMSS\n",
        "                    start_time = event_date.strftime('%Y%m%d') + \"T\" + event_time\n",
        "\n",
        "                    # Craft the event description with the Imam Jama'ah time (10 minutes later)\n",
        "                    description = f\"Imam Jama'ah for {prayer} will be in 10 minutes at {imam_jamaah_time.strftime('%I:%M %p')}\"\n",
        "\n",
        "                    # Write the event details to the ICS file\n",
        "                    ics_file.write(f\"BEGIN:VEVENT\\n\")\n",
        "                    ics_file.write(f\"SUMMARY:{prayer} Prayer\\n\")\n",
        "                    ics_file.write(f\"DTSTART:{start_time}\\n\")\n",
        "                    ics_file.write(f\"DESCRIPTION:{description}\\n\")\n",
        "\n",
        "                    # Set reminder (trigger at the same time as prayer)\n",
        "                    ics_file.write(f\"BEGIN:VALARM\\n\")\n",
        "                    ics_file.write(f\"ACTION:DISPLAY\\n\")\n",
        "                    ics_file.write(f\"DESCRIPTION:Reminder for {prayer} Prayer\\n\")\n",
        "                    ics_file.write(f\"TRIGGER:-PT0M\\n\")  # Reminder 0 minutes before (exact time)\n",
        "                    ics_file.write(f\"END:VALARM\\n\")\n",
        "\n",
        "                    ics_file.write(f\"END:VEVENT\\n\")\n",
        "\n",
        "            # Write the ICS footer\n",
        "            ics_file.write(\"END:VCALENDAR\\n\")\n",
        "\n",
        "    print(f\"Converted CSV to ICS file: {ics_file_name}\")\n",
        "\n",
        "# Example Usage\n",
        "csv_to_ics('/content/prayer_times_2025.csv', '/content/prayer_times_2025.ics')"
      ],
      "metadata": {
        "colab": {
          "base_uri": "https://localhost:8080/"
        },
        "id": "vQ8vhkJM7Ibd",
        "outputId": "558e5542-57d3-40e7-a2df-58dba0a5d7b8"
      },
      "execution_count": 35,
      "outputs": [
        {
          "output_type": "stream",
          "name": "stdout",
          "text": [
            "Converted CSV to ICS file: /content/prayer_times_2025.ics\n"
          ]
        }
      ]
    }
  ]
}